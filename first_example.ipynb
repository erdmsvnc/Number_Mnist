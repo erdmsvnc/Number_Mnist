{
 "cells": [
  {
   "cell_type": "code",
   "execution_count": 45,
   "metadata": {},
   "outputs": [],
   "source": [
    "from keras.models import Model # type: ignore\n",
    "from keras.layers import Dense # type: ignore\n",
    "from keras.models import Sequential # type: ignore\n",
    "from keras.layers import Convolution2D, MaxPool2D, Activation, Dropout, Flatten, Dense # type: ignore\n",
    "from keras.preprocessing.image import  img_to_array, load_img # type: ignore\n",
    "from tensorflow.keras.preprocessing.image import ImageDataGenerator # type: ignore\n",
    "import matplotlib.pyplot as plt\n",
    "from glob import glob\n",
    "import pandas as pd\n",
    "import warnings\n",
    "warnings.filterwarnings('ignore')\n"
   ]
  },
  {
   "cell_type": "code",
   "execution_count": 46,
   "metadata": {},
   "outputs": [],
   "source": [
    "test = pd.read_csv(\"mnist_test.csv\")"
   ]
  },
  {
   "cell_type": "code",
   "execution_count": 47,
   "metadata": {},
   "outputs": [],
   "source": [
    "train = pd.read_csv(\"mnist_train.csv\")"
   ]
  },
  {
   "cell_type": "markdown",
   "metadata": {},
   "source": [
    "# SEPERATING AND NORMALIZATION"
   ]
  },
  {
   "cell_type": "code",
   "execution_count": 48,
   "metadata": {},
   "outputs": [
    {
     "name": "stdout",
     "output_type": "stream",
     "text": [
      "x_train shape :  (60000, 784)\n"
     ]
    }
   ],
   "source": [
    "y_train = train[\"label\"]\n",
    "x_train = train.drop([\"label\"], axis=1)\n",
    "\n",
    "y_test = test[\"label\"]\n",
    "x_test = test.drop([\"label\"], axis=1)\n",
    "\n",
    "# Normalize the data\n",
    "x_train = x_train.astype(\"float32\")\n",
    "x_test = x_test.astype(\"float32\")\n",
    "x_train = x_train / 255.0\n",
    "x_test = x_test / 255.0\n",
    "\n",
    "print(\"x_train shape : \", x_train.shape)"
   ]
  },
  {
   "cell_type": "markdown",
   "metadata": {},
   "source": [
    "# RESHAPE"
   ]
  },
  {
   "cell_type": "code",
   "execution_count": 49,
   "metadata": {},
   "outputs": [],
   "source": [
    "x_train = x_train.values.reshape(-1,28,28,1)\n",
    "x_test = x_test.values.reshape(-1,28,28,1)\n"
   ]
  },
  {
   "cell_type": "markdown",
   "metadata": {},
   "source": [
    "# LABEL ENCODING"
   ]
  },
  {
   "cell_type": "code",
   "execution_count": 50,
   "metadata": {},
   "outputs": [],
   "source": [
    "from tensorflow.keras.utils import to_categorical\n",
    "\n",
    "y_train = to_categorical(y_train, num_classes = 10)\n",
    "y_test = to_categorical(y_test, num_classes = 10)"
   ]
  },
  {
   "cell_type": "markdown",
   "metadata": {},
   "source": [
    "# TRAIN TEST SPLIT"
   ]
  },
  {
   "cell_type": "code",
   "execution_count": 51,
   "metadata": {},
   "outputs": [],
   "source": [
    "from sklearn.model_selection import train_test_split\n",
    "\n",
    "x_train, x_val, y_train, y_val = train_test_split(x_train,y_train, test_size=0.20,random_state=42)\n"
   ]
  },
  {
   "cell_type": "markdown",
   "metadata": {},
   "source": [
    "# CREATE CNN MODEL"
   ]
  },
  {
   "cell_type": "code",
   "execution_count": 65,
   "metadata": {},
   "outputs": [],
   "source": [
    "epochs= 100\n",
    "batch_size = 120\n",
    "num_classes = 10\n",
    "\n",
    "model = Sequential()\n",
    "training = True\n",
    "model.add(Convolution2D(filters=64,kernel_size=(3,3), activation=\"relu\", input_shape=(28,28,1)))\n",
    "model.add(MaxPool2D(pool_size=(2,2)))\n",
    "model.add(Convolution2D(filters=128,kernel_size=(3,3), activation=\"relu\"))\n",
    "model.add(MaxPool2D(pool_size=(2,2)))\n",
    "model.add(Convolution2D(filters=256,kernel_size=(3,3), activation=\"relu\"))\n",
    "model.add(MaxPool2D(pool_size=(2,2)))\n",
    "model.add(Flatten())\n",
    "model.add(Dense(units=256, activation=\"relu\"))  \n",
    "model.add(Dropout(0.5))\n",
    "model.add(Dense(units=512, activation=\"relu\"))  \n",
    "model.add(Dropout(0.5))\n",
    "\n",
    "model.add(Dense(10, activation=\"softmax\"))\n",
    "model.compile(loss=\"categorical_crossentropy\", optimizer=\"rmsprop\", metrics=[\"accuracy\"])\n",
    "\n",
    "\n"
   ]
  },
  {
   "cell_type": "markdown",
   "metadata": {},
   "source": [
    "# DATAGENERATOR"
   ]
  },
  {
   "cell_type": "code",
   "execution_count": 66,
   "metadata": {},
   "outputs": [],
   "source": [
    "datagen = ImageDataGenerator(\n",
    "    featurewise_center = False,\n",
    "    samplewise_center = False,\n",
    "    featurewise_std_normalization = False,\n",
    "    samplewise_std_normalization = False,\n",
    "    shear_range = 0.45,\n",
    "    zca_whitening = False,\n",
    "    rotation_range = 5,\n",
    "    width_shift_range = 0.025,\n",
    "    height_shift_range = 0.025,\n",
    "    zoom_range = 0.025,\n",
    "    horizontal_flip = True,\n",
    "    vertical_flip = True\n",
    ")\n",
    "datagen.fit(x_train)"
   ]
  },
  {
   "cell_type": "markdown",
   "metadata": {},
   "source": [
    "# TRAIN MODEL"
   ]
  },
  {
   "cell_type": "code",
   "execution_count": 54,
   "metadata": {},
   "outputs": [
    {
     "name": "stdout",
     "output_type": "stream",
     "text": [
      "Epoch 1/100\n",
      "\u001b[1m13/13\u001b[0m \u001b[32m━━━━━━━━━━━━━━━━━━━━\u001b[0m\u001b[37m\u001b[0m \u001b[1m3s\u001b[0m 217ms/step - accuracy: 0.1188 - loss: 2.3007 - val_accuracy: 0.2338 - val_loss: 2.2170\n",
      "Epoch 2/100\n",
      "\u001b[1m13/13\u001b[0m \u001b[32m━━━━━━━━━━━━━━━━━━━━\u001b[0m\u001b[37m\u001b[0m \u001b[1m2s\u001b[0m 189ms/step - accuracy: 0.2197 - loss: 2.2195 - val_accuracy: 0.3096 - val_loss: 1.9174\n",
      "Epoch 3/100\n",
      "\u001b[1m13/13\u001b[0m \u001b[32m━━━━━━━━━━━━━━━━━━━━\u001b[0m\u001b[37m\u001b[0m \u001b[1m2s\u001b[0m 192ms/step - accuracy: 0.2971 - loss: 2.0094 - val_accuracy: 0.3001 - val_loss: 1.8926\n",
      "Epoch 4/100\n",
      "\u001b[1m13/13\u001b[0m \u001b[32m━━━━━━━━━━━━━━━━━━━━\u001b[0m\u001b[37m\u001b[0m \u001b[1m2s\u001b[0m 197ms/step - accuracy: 0.3594 - loss: 1.8151 - val_accuracy: 0.3833 - val_loss: 1.6225\n",
      "Epoch 5/100\n",
      "\u001b[1m13/13\u001b[0m \u001b[32m━━━━━━━━━━━━━━━━━━━━\u001b[0m\u001b[37m\u001b[0m \u001b[1m2s\u001b[0m 188ms/step - accuracy: 0.3996 - loss: 1.6442 - val_accuracy: 0.5271 - val_loss: 1.2892\n",
      "Epoch 6/100\n",
      "\u001b[1m13/13\u001b[0m \u001b[32m━━━━━━━━━━━━━━━━━━━━\u001b[0m\u001b[37m\u001b[0m \u001b[1m2s\u001b[0m 186ms/step - accuracy: 0.4418 - loss: 1.5139 - val_accuracy: 0.4874 - val_loss: 1.4045\n",
      "Epoch 7/100\n",
      "\u001b[1m13/13\u001b[0m \u001b[32m━━━━━━━━━━━━━━━━━━━━\u001b[0m\u001b[37m\u001b[0m \u001b[1m2s\u001b[0m 183ms/step - accuracy: 0.4574 - loss: 1.4397 - val_accuracy: 0.5663 - val_loss: 1.2555\n",
      "Epoch 8/100\n",
      "\u001b[1m13/13\u001b[0m \u001b[32m━━━━━━━━━━━━━━━━━━━━\u001b[0m\u001b[37m\u001b[0m \u001b[1m2s\u001b[0m 193ms/step - accuracy: 0.5281 - loss: 1.2964 - val_accuracy: 0.6198 - val_loss: 1.0873\n",
      "Epoch 9/100\n",
      "\u001b[1m13/13\u001b[0m \u001b[32m━━━━━━━━━━━━━━━━━━━━\u001b[0m\u001b[37m\u001b[0m \u001b[1m2s\u001b[0m 196ms/step - accuracy: 0.5477 - loss: 1.2843 - val_accuracy: 0.6175 - val_loss: 1.0573\n",
      "Epoch 10/100\n",
      "\u001b[1m13/13\u001b[0m \u001b[32m━━━━━━━━━━━━━━━━━━━━\u001b[0m\u001b[37m\u001b[0m \u001b[1m3s\u001b[0m 214ms/step - accuracy: 0.5677 - loss: 1.1980 - val_accuracy: 0.6418 - val_loss: 1.0004\n",
      "Epoch 11/100\n",
      "\u001b[1m13/13\u001b[0m \u001b[32m━━━━━━━━━━━━━━━━━━━━\u001b[0m\u001b[37m\u001b[0m \u001b[1m2s\u001b[0m 188ms/step - accuracy: 0.5498 - loss: 1.1914 - val_accuracy: 0.7078 - val_loss: 0.8777\n",
      "Epoch 12/100\n",
      "\u001b[1m13/13\u001b[0m \u001b[32m━━━━━━━━━━━━━━━━━━━━\u001b[0m\u001b[37m\u001b[0m \u001b[1m2s\u001b[0m 178ms/step - accuracy: 0.6088 - loss: 1.0434 - val_accuracy: 0.6944 - val_loss: 0.8941\n",
      "Epoch 13/100\n",
      "\u001b[1m13/13\u001b[0m \u001b[32m━━━━━━━━━━━━━━━━━━━━\u001b[0m\u001b[37m\u001b[0m \u001b[1m2s\u001b[0m 183ms/step - accuracy: 0.6326 - loss: 1.0835 - val_accuracy: 0.7383 - val_loss: 0.7842\n",
      "Epoch 14/100\n",
      "\u001b[1m13/13\u001b[0m \u001b[32m━━━━━━━━━━━━━━━━━━━━\u001b[0m\u001b[37m\u001b[0m \u001b[1m2s\u001b[0m 183ms/step - accuracy: 0.6819 - loss: 0.8964 - val_accuracy: 0.7525 - val_loss: 0.7505\n",
      "Epoch 15/100\n",
      "\u001b[1m13/13\u001b[0m \u001b[32m━━━━━━━━━━━━━━━━━━━━\u001b[0m\u001b[37m\u001b[0m \u001b[1m2s\u001b[0m 204ms/step - accuracy: 0.6955 - loss: 0.9014 - val_accuracy: 0.7602 - val_loss: 0.7153\n",
      "Epoch 16/100\n",
      "\u001b[1m13/13\u001b[0m \u001b[32m━━━━━━━━━━━━━━━━━━━━\u001b[0m\u001b[37m\u001b[0m \u001b[1m2s\u001b[0m 197ms/step - accuracy: 0.6933 - loss: 0.8686 - val_accuracy: 0.7909 - val_loss: 0.6327\n",
      "Epoch 17/100\n",
      "\u001b[1m13/13\u001b[0m \u001b[32m━━━━━━━━━━━━━━━━━━━━\u001b[0m\u001b[37m\u001b[0m \u001b[1m2s\u001b[0m 186ms/step - accuracy: 0.7024 - loss: 0.8627 - val_accuracy: 0.7702 - val_loss: 0.6728\n",
      "Epoch 18/100\n",
      "\u001b[1m13/13\u001b[0m \u001b[32m━━━━━━━━━━━━━━━━━━━━\u001b[0m\u001b[37m\u001b[0m \u001b[1m2s\u001b[0m 188ms/step - accuracy: 0.7208 - loss: 0.8095 - val_accuracy: 0.7487 - val_loss: 0.7603\n",
      "Epoch 19/100\n",
      "\u001b[1m13/13\u001b[0m \u001b[32m━━━━━━━━━━━━━━━━━━━━\u001b[0m\u001b[37m\u001b[0m \u001b[1m2s\u001b[0m 184ms/step - accuracy: 0.7110 - loss: 0.8941 - val_accuracy: 0.8212 - val_loss: 0.5795\n",
      "Epoch 20/100\n",
      "\u001b[1m13/13\u001b[0m \u001b[32m━━━━━━━━━━━━━━━━━━━━\u001b[0m\u001b[37m\u001b[0m \u001b[1m2s\u001b[0m 187ms/step - accuracy: 0.7687 - loss: 0.6926 - val_accuracy: 0.8071 - val_loss: 0.5920\n",
      "Epoch 21/100\n",
      "\u001b[1m13/13\u001b[0m \u001b[32m━━━━━━━━━━━━━━━━━━━━\u001b[0m\u001b[37m\u001b[0m \u001b[1m2s\u001b[0m 191ms/step - accuracy: 0.7766 - loss: 0.6960 - val_accuracy: 0.8002 - val_loss: 0.5990\n",
      "Epoch 22/100\n",
      "\u001b[1m13/13\u001b[0m \u001b[32m━━━━━━━━━━━━━━━━━━━━\u001b[0m\u001b[37m\u001b[0m \u001b[1m2s\u001b[0m 185ms/step - accuracy: 0.7782 - loss: 0.6683 - val_accuracy: 0.8401 - val_loss: 0.5055\n",
      "Epoch 23/100\n",
      "\u001b[1m13/13\u001b[0m \u001b[32m━━━━━━━━━━━━━━━━━━━━\u001b[0m\u001b[37m\u001b[0m \u001b[1m2s\u001b[0m 193ms/step - accuracy: 0.7873 - loss: 0.6494 - val_accuracy: 0.8407 - val_loss: 0.5081\n",
      "Epoch 24/100\n",
      "\u001b[1m13/13\u001b[0m \u001b[32m━━━━━━━━━━━━━━━━━━━━\u001b[0m\u001b[37m\u001b[0m \u001b[1m2s\u001b[0m 184ms/step - accuracy: 0.8096 - loss: 0.6355 - val_accuracy: 0.8409 - val_loss: 0.5039\n",
      "Epoch 25/100\n",
      "\u001b[1m13/13\u001b[0m \u001b[32m━━━━━━━━━━━━━━━━━━━━\u001b[0m\u001b[37m\u001b[0m \u001b[1m2s\u001b[0m 194ms/step - accuracy: 0.8111 - loss: 0.5999 - val_accuracy: 0.8414 - val_loss: 0.4927\n",
      "Epoch 26/100\n",
      "\u001b[1m13/13\u001b[0m \u001b[32m━━━━━━━━━━━━━━━━━━━━\u001b[0m\u001b[37m\u001b[0m \u001b[1m2s\u001b[0m 193ms/step - accuracy: 0.8023 - loss: 0.5884 - val_accuracy: 0.8462 - val_loss: 0.4876\n",
      "Epoch 27/100\n",
      "\u001b[1m13/13\u001b[0m \u001b[32m━━━━━━━━━━━━━━━━━━━━\u001b[0m\u001b[37m\u001b[0m \u001b[1m3s\u001b[0m 211ms/step - accuracy: 0.8000 - loss: 0.5393 - val_accuracy: 0.8585 - val_loss: 0.4536\n",
      "Epoch 28/100\n",
      "\u001b[1m13/13\u001b[0m \u001b[32m━━━━━━━━━━━━━━━━━━━━\u001b[0m\u001b[37m\u001b[0m \u001b[1m3s\u001b[0m 218ms/step - accuracy: 0.8249 - loss: 0.5488 - val_accuracy: 0.8357 - val_loss: 0.4995\n",
      "Epoch 29/100\n",
      "\u001b[1m13/13\u001b[0m \u001b[32m━━━━━━━━━━━━━━━━━━━━\u001b[0m\u001b[37m\u001b[0m \u001b[1m2s\u001b[0m 190ms/step - accuracy: 0.8304 - loss: 0.5108 - val_accuracy: 0.8658 - val_loss: 0.4284\n",
      "Epoch 30/100\n",
      "\u001b[1m13/13\u001b[0m \u001b[32m━━━━━━━━━━━━━━━━━━━━\u001b[0m\u001b[37m\u001b[0m \u001b[1m2s\u001b[0m 202ms/step - accuracy: 0.8179 - loss: 0.5579 - val_accuracy: 0.8880 - val_loss: 0.3556\n",
      "Epoch 31/100\n",
      "\u001b[1m 9/13\u001b[0m \u001b[32m━━━━━━━━━━━━━\u001b[0m\u001b[37m━━━━━━━\u001b[0m \u001b[1m0s\u001b[0m 49ms/step - accuracy: 0.8719 - loss: 0.4545"
     ]
    },
    {
     "name": "stderr",
     "output_type": "stream",
     "text": [
      "2024-05-09 16:01:37.830237: W tensorflow/core/framework/local_rendezvous.cc:404] Local rendezvous is aborting with status: OUT_OF_RANGE: End of sequence\n",
      "\t [[{{node IteratorGetNext}}]]\n"
     ]
    },
    {
     "name": "stdout",
     "output_type": "stream",
     "text": [
      "\u001b[1m13/13\u001b[0m \u001b[32m━━━━━━━━━━━━━━━━━━━━\u001b[0m\u001b[37m\u001b[0m \u001b[1m2s\u001b[0m 187ms/step - accuracy: 0.8662 - loss: 0.4580 - val_accuracy: 0.8726 - val_loss: 0.3942\n",
      "Epoch 32/100\n",
      "\u001b[1m13/13\u001b[0m \u001b[32m━━━━━━━━━━━━━━━━━━━━\u001b[0m\u001b[37m\u001b[0m \u001b[1m2s\u001b[0m 191ms/step - accuracy: 0.8546 - loss: 0.4666 - val_accuracy: 0.8932 - val_loss: 0.3376\n",
      "Epoch 33/100\n",
      "\u001b[1m13/13\u001b[0m \u001b[32m━━━━━━━━━━━━━━━━━━━━\u001b[0m\u001b[37m\u001b[0m \u001b[1m2s\u001b[0m 189ms/step - accuracy: 0.8772 - loss: 0.4362 - val_accuracy: 0.8869 - val_loss: 0.3711\n",
      "Epoch 34/100\n",
      "\u001b[1m13/13\u001b[0m \u001b[32m━━━━━━━━━━━━━━━━━━━━\u001b[0m\u001b[37m\u001b[0m \u001b[1m2s\u001b[0m 180ms/step - accuracy: 0.8421 - loss: 0.4812 - val_accuracy: 0.8817 - val_loss: 0.3737\n",
      "Epoch 35/100\n",
      "\u001b[1m13/13\u001b[0m \u001b[32m━━━━━━━━━━━━━━━━━━━━\u001b[0m\u001b[37m\u001b[0m \u001b[1m2s\u001b[0m 190ms/step - accuracy: 0.8566 - loss: 0.4564 - val_accuracy: 0.8813 - val_loss: 0.3709\n",
      "Epoch 36/100\n",
      "\u001b[1m13/13\u001b[0m \u001b[32m━━━━━━━━━━━━━━━━━━━━\u001b[0m\u001b[37m\u001b[0m \u001b[1m2s\u001b[0m 194ms/step - accuracy: 0.8406 - loss: 0.4577 - val_accuracy: 0.9052 - val_loss: 0.3136\n",
      "Epoch 37/100\n",
      "\u001b[1m13/13\u001b[0m \u001b[32m━━━━━━━━━━━━━━━━━━━━\u001b[0m\u001b[37m\u001b[0m \u001b[1m2s\u001b[0m 184ms/step - accuracy: 0.8692 - loss: 0.4019 - val_accuracy: 0.9038 - val_loss: 0.3127\n",
      "Epoch 38/100\n",
      "\u001b[1m13/13\u001b[0m \u001b[32m━━━━━━━━━━━━━━━━━━━━\u001b[0m\u001b[37m\u001b[0m \u001b[1m2s\u001b[0m 177ms/step - accuracy: 0.8889 - loss: 0.3907 - val_accuracy: 0.9035 - val_loss: 0.3107\n",
      "Epoch 39/100\n",
      "\u001b[1m13/13\u001b[0m \u001b[32m━━━━━━━━━━━━━━━━━━━━\u001b[0m\u001b[37m\u001b[0m \u001b[1m2s\u001b[0m 187ms/step - accuracy: 0.8639 - loss: 0.4414 - val_accuracy: 0.8773 - val_loss: 0.4128\n",
      "Epoch 40/100\n",
      "\u001b[1m13/13\u001b[0m \u001b[32m━━━━━━━━━━━━━━━━━━━━\u001b[0m\u001b[37m\u001b[0m \u001b[1m2s\u001b[0m 190ms/step - accuracy: 0.8576 - loss: 0.4542 - val_accuracy: 0.9144 - val_loss: 0.2720\n",
      "Epoch 41/100\n",
      "\u001b[1m13/13\u001b[0m \u001b[32m━━━━━━━━━━━━━━━━━━━━\u001b[0m\u001b[37m\u001b[0m \u001b[1m2s\u001b[0m 184ms/step - accuracy: 0.8721 - loss: 0.4156 - val_accuracy: 0.9074 - val_loss: 0.3006\n",
      "Epoch 42/100\n",
      "\u001b[1m13/13\u001b[0m \u001b[32m━━━━━━━━━━━━━━━━━━━━\u001b[0m\u001b[37m\u001b[0m \u001b[1m2s\u001b[0m 187ms/step - accuracy: 0.8762 - loss: 0.3830 - val_accuracy: 0.9210 - val_loss: 0.2769\n",
      "Epoch 43/100\n",
      "\u001b[1m13/13\u001b[0m \u001b[32m━━━━━━━━━━━━━━━━━━━━\u001b[0m\u001b[37m\u001b[0m \u001b[1m2s\u001b[0m 187ms/step - accuracy: 0.8736 - loss: 0.3869 - val_accuracy: 0.9075 - val_loss: 0.2899\n",
      "Epoch 44/100\n",
      "\u001b[1m13/13\u001b[0m \u001b[32m━━━━━━━━━━━━━━━━━━━━\u001b[0m\u001b[37m\u001b[0m \u001b[1m2s\u001b[0m 187ms/step - accuracy: 0.9011 - loss: 0.3120 - val_accuracy: 0.8898 - val_loss: 0.3546\n",
      "Epoch 45/100\n",
      "\u001b[1m13/13\u001b[0m \u001b[32m━━━━━━━━━━━━━━━━━━━━\u001b[0m\u001b[37m\u001b[0m \u001b[1m2s\u001b[0m 193ms/step - accuracy: 0.8981 - loss: 0.3445 - val_accuracy: 0.8721 - val_loss: 0.4086\n",
      "Epoch 46/100\n",
      "\u001b[1m13/13\u001b[0m \u001b[32m━━━━━━━━━━━━━━━━━━━━\u001b[0m\u001b[37m\u001b[0m \u001b[1m2s\u001b[0m 186ms/step - accuracy: 0.8760 - loss: 0.3981 - val_accuracy: 0.9147 - val_loss: 0.2720\n",
      "Epoch 47/100\n",
      "\u001b[1m13/13\u001b[0m \u001b[32m━━━━━━━━━━━━━━━━━━━━\u001b[0m\u001b[37m\u001b[0m \u001b[1m2s\u001b[0m 185ms/step - accuracy: 0.8964 - loss: 0.3186 - val_accuracy: 0.9005 - val_loss: 0.3223\n",
      "Epoch 48/100\n",
      "\u001b[1m13/13\u001b[0m \u001b[32m━━━━━━━━━━━━━━━━━━━━\u001b[0m\u001b[37m\u001b[0m \u001b[1m2s\u001b[0m 184ms/step - accuracy: 0.8961 - loss: 0.3227 - val_accuracy: 0.9224 - val_loss: 0.2525\n",
      "Epoch 49/100\n",
      "\u001b[1m13/13\u001b[0m \u001b[32m━━━━━━━━━━━━━━━━━━━━\u001b[0m\u001b[37m\u001b[0m \u001b[1m2s\u001b[0m 193ms/step - accuracy: 0.9041 - loss: 0.3084 - val_accuracy: 0.9035 - val_loss: 0.3126\n",
      "Epoch 50/100\n",
      "\u001b[1m13/13\u001b[0m \u001b[32m━━━━━━━━━━━━━━━━━━━━\u001b[0m\u001b[37m\u001b[0m \u001b[1m2s\u001b[0m 184ms/step - accuracy: 0.8767 - loss: 0.3671 - val_accuracy: 0.9150 - val_loss: 0.2706\n",
      "Epoch 51/100\n",
      "\u001b[1m13/13\u001b[0m \u001b[32m━━━━━━━━━━━━━━━━━━━━\u001b[0m\u001b[37m\u001b[0m \u001b[1m2s\u001b[0m 186ms/step - accuracy: 0.8609 - loss: 0.4082 - val_accuracy: 0.9309 - val_loss: 0.2295\n",
      "Epoch 52/100\n",
      "\u001b[1m13/13\u001b[0m \u001b[32m━━━━━━━━━━━━━━━━━━━━\u001b[0m\u001b[37m\u001b[0m \u001b[1m2s\u001b[0m 193ms/step - accuracy: 0.9006 - loss: 0.2813 - val_accuracy: 0.9044 - val_loss: 0.3052\n",
      "Epoch 53/100\n",
      "\u001b[1m13/13\u001b[0m \u001b[32m━━━━━━━━━━━━━━━━━━━━\u001b[0m\u001b[37m\u001b[0m \u001b[1m2s\u001b[0m 189ms/step - accuracy: 0.9007 - loss: 0.3399 - val_accuracy: 0.9298 - val_loss: 0.2295\n",
      "Epoch 54/100\n",
      "\u001b[1m13/13\u001b[0m \u001b[32m━━━━━━━━━━━━━━━━━━━━\u001b[0m\u001b[37m\u001b[0m \u001b[1m2s\u001b[0m 186ms/step - accuracy: 0.9002 - loss: 0.2899 - val_accuracy: 0.9197 - val_loss: 0.2646\n",
      "Epoch 55/100\n",
      "\u001b[1m13/13\u001b[0m \u001b[32m━━━━━━━━━━━━━━━━━━━━\u001b[0m\u001b[37m\u001b[0m \u001b[1m2s\u001b[0m 192ms/step - accuracy: 0.8978 - loss: 0.3283 - val_accuracy: 0.9330 - val_loss: 0.2218\n",
      "Epoch 56/100\n",
      "\u001b[1m13/13\u001b[0m \u001b[32m━━━━━━━━━━━━━━━━━━━━\u001b[0m\u001b[37m\u001b[0m \u001b[1m2s\u001b[0m 186ms/step - accuracy: 0.8953 - loss: 0.3419 - val_accuracy: 0.9308 - val_loss: 0.2307\n",
      "Epoch 57/100\n",
      "\u001b[1m13/13\u001b[0m \u001b[32m━━━━━━━━━━━━━━━━━━━━\u001b[0m\u001b[37m\u001b[0m \u001b[1m2s\u001b[0m 192ms/step - accuracy: 0.9178 - loss: 0.2621 - val_accuracy: 0.9310 - val_loss: 0.2322\n",
      "Epoch 58/100\n",
      "\u001b[1m13/13\u001b[0m \u001b[32m━━━━━━━━━━━━━━━━━━━━\u001b[0m\u001b[37m\u001b[0m \u001b[1m2s\u001b[0m 193ms/step - accuracy: 0.9113 - loss: 0.2816 - val_accuracy: 0.9268 - val_loss: 0.2407\n",
      "Epoch 59/100\n",
      "\u001b[1m13/13\u001b[0m \u001b[32m━━━━━━━━━━━━━━━━━━━━\u001b[0m\u001b[37m\u001b[0m \u001b[1m2s\u001b[0m 191ms/step - accuracy: 0.9131 - loss: 0.2867 - val_accuracy: 0.9065 - val_loss: 0.3088\n",
      "Epoch 60/100\n",
      "\u001b[1m13/13\u001b[0m \u001b[32m━━━━━━━━━━━━━━━━━━━━\u001b[0m\u001b[37m\u001b[0m \u001b[1m2s\u001b[0m 188ms/step - accuracy: 0.8941 - loss: 0.3246 - val_accuracy: 0.9197 - val_loss: 0.2562\n",
      "Epoch 61/100\n",
      "\u001b[1m13/13\u001b[0m \u001b[32m━━━━━━━━━━━━━━━━━━━━\u001b[0m\u001b[37m\u001b[0m \u001b[1m2s\u001b[0m 193ms/step - accuracy: 0.9197 - loss: 0.2417 - val_accuracy: 0.9260 - val_loss: 0.2419\n",
      "Epoch 62/100\n",
      "\u001b[1m 9/13\u001b[0m \u001b[32m━━━━━━━━━━━━━\u001b[0m\u001b[37m━━━━━━━\u001b[0m \u001b[1m0s\u001b[0m 49ms/step - accuracy: 0.9014 - loss: 0.2934"
     ]
    },
    {
     "name": "stderr",
     "output_type": "stream",
     "text": [
      "2024-05-09 16:02:49.434693: W tensorflow/core/framework/local_rendezvous.cc:404] Local rendezvous is aborting with status: OUT_OF_RANGE: End of sequence\n",
      "\t [[{{node IteratorGetNext}}]]\n"
     ]
    },
    {
     "name": "stdout",
     "output_type": "stream",
     "text": [
      "\u001b[1m13/13\u001b[0m \u001b[32m━━━━━━━━━━━━━━━━━━━━\u001b[0m\u001b[37m\u001b[0m \u001b[1m2s\u001b[0m 179ms/step - accuracy: 0.9025 - loss: 0.2955 - val_accuracy: 0.9342 - val_loss: 0.2166\n",
      "Epoch 63/100\n",
      "\u001b[1m13/13\u001b[0m \u001b[32m━━━━━━━━━━━━━━━━━━━━\u001b[0m\u001b[37m\u001b[0m \u001b[1m2s\u001b[0m 187ms/step - accuracy: 0.9196 - loss: 0.2495 - val_accuracy: 0.9259 - val_loss: 0.2496\n",
      "Epoch 64/100\n",
      "\u001b[1m13/13\u001b[0m \u001b[32m━━━━━━━━━━━━━━━━━━━━\u001b[0m\u001b[37m\u001b[0m \u001b[1m2s\u001b[0m 185ms/step - accuracy: 0.9238 - loss: 0.2593 - val_accuracy: 0.9283 - val_loss: 0.2375\n",
      "Epoch 65/100\n",
      "\u001b[1m13/13\u001b[0m \u001b[32m━━━━━━━━━━━━━━━━━━━━\u001b[0m\u001b[37m\u001b[0m \u001b[1m2s\u001b[0m 187ms/step - accuracy: 0.9085 - loss: 0.2976 - val_accuracy: 0.9256 - val_loss: 0.2561\n",
      "Epoch 66/100\n",
      "\u001b[1m13/13\u001b[0m \u001b[32m━━━━━━━━━━━━━━━━━━━━\u001b[0m\u001b[37m\u001b[0m \u001b[1m2s\u001b[0m 190ms/step - accuracy: 0.9236 - loss: 0.2897 - val_accuracy: 0.9346 - val_loss: 0.2190\n",
      "Epoch 67/100\n",
      "\u001b[1m13/13\u001b[0m \u001b[32m━━━━━━━━━━━━━━━━━━━━\u001b[0m\u001b[37m\u001b[0m \u001b[1m2s\u001b[0m 188ms/step - accuracy: 0.9220 - loss: 0.2386 - val_accuracy: 0.9421 - val_loss: 0.1924\n",
      "Epoch 68/100\n",
      "\u001b[1m13/13\u001b[0m \u001b[32m━━━━━━━━━━━━━━━━━━━━\u001b[0m\u001b[37m\u001b[0m \u001b[1m2s\u001b[0m 188ms/step - accuracy: 0.9022 - loss: 0.3260 - val_accuracy: 0.9280 - val_loss: 0.2323\n",
      "Epoch 69/100\n",
      "\u001b[1m13/13\u001b[0m \u001b[32m━━━━━━━━━━━━━━━━━━━━\u001b[0m\u001b[37m\u001b[0m \u001b[1m2s\u001b[0m 192ms/step - accuracy: 0.9028 - loss: 0.3053 - val_accuracy: 0.9419 - val_loss: 0.1914\n",
      "Epoch 70/100\n",
      "\u001b[1m13/13\u001b[0m \u001b[32m━━━━━━━━━━━━━━━━━━━━\u001b[0m\u001b[37m\u001b[0m \u001b[1m2s\u001b[0m 189ms/step - accuracy: 0.9099 - loss: 0.3115 - val_accuracy: 0.9337 - val_loss: 0.2183\n",
      "Epoch 71/100\n",
      "\u001b[1m13/13\u001b[0m \u001b[32m━━━━━━━━━━━━━━━━━━━━\u001b[0m\u001b[37m\u001b[0m \u001b[1m2s\u001b[0m 188ms/step - accuracy: 0.9315 - loss: 0.2341 - val_accuracy: 0.9212 - val_loss: 0.2479\n",
      "Epoch 72/100\n",
      "\u001b[1m13/13\u001b[0m \u001b[32m━━━━━━━━━━━━━━━━━━━━\u001b[0m\u001b[37m\u001b[0m \u001b[1m3s\u001b[0m 213ms/step - accuracy: 0.9144 - loss: 0.2831 - val_accuracy: 0.9423 - val_loss: 0.1913\n",
      "Epoch 73/100\n",
      "\u001b[1m13/13\u001b[0m \u001b[32m━━━━━━━━━━━━━━━━━━━━\u001b[0m\u001b[37m\u001b[0m \u001b[1m3s\u001b[0m 205ms/step - accuracy: 0.9212 - loss: 0.2615 - val_accuracy: 0.9406 - val_loss: 0.1949\n",
      "Epoch 74/100\n",
      "\u001b[1m13/13\u001b[0m \u001b[32m━━━━━━━━━━━━━━━━━━━━\u001b[0m\u001b[37m\u001b[0m \u001b[1m2s\u001b[0m 186ms/step - accuracy: 0.9056 - loss: 0.2889 - val_accuracy: 0.9302 - val_loss: 0.2240\n",
      "Epoch 75/100\n",
      "\u001b[1m13/13\u001b[0m \u001b[32m━━━━━━━━━━━━━━━━━━━━\u001b[0m\u001b[37m\u001b[0m \u001b[1m47s\u001b[0m 4s/step - accuracy: 0.9117 - loss: 0.2679 - val_accuracy: 0.9333 - val_loss: 0.2238\n",
      "Epoch 76/100\n",
      "\u001b[1m13/13\u001b[0m \u001b[32m━━━━━━━━━━━━━━━━━━━━\u001b[0m\u001b[37m\u001b[0m \u001b[1m2s\u001b[0m 199ms/step - accuracy: 0.9130 - loss: 0.2648 - val_accuracy: 0.9377 - val_loss: 0.2072\n",
      "Epoch 77/100\n",
      "\u001b[1m13/13\u001b[0m \u001b[32m━━━━━━━━━━━━━━━━━━━━\u001b[0m\u001b[37m\u001b[0m \u001b[1m2s\u001b[0m 185ms/step - accuracy: 0.9210 - loss: 0.2743 - val_accuracy: 0.9349 - val_loss: 0.2194\n",
      "Epoch 78/100\n",
      "\u001b[1m13/13\u001b[0m \u001b[32m━━━━━━━━━━━━━━━━━━━━\u001b[0m\u001b[37m\u001b[0m \u001b[1m2s\u001b[0m 186ms/step - accuracy: 0.9185 - loss: 0.2695 - val_accuracy: 0.9428 - val_loss: 0.2012\n",
      "Epoch 79/100\n",
      "\u001b[1m13/13\u001b[0m \u001b[32m━━━━━━━━━━━━━━━━━━━━\u001b[0m\u001b[37m\u001b[0m \u001b[1m2s\u001b[0m 189ms/step - accuracy: 0.9178 - loss: 0.2592 - val_accuracy: 0.9451 - val_loss: 0.1804\n",
      "Epoch 80/100\n",
      "\u001b[1m13/13\u001b[0m \u001b[32m━━━━━━━━━━━━━━━━━━━━\u001b[0m\u001b[37m\u001b[0m \u001b[1m2s\u001b[0m 189ms/step - accuracy: 0.9285 - loss: 0.2152 - val_accuracy: 0.9441 - val_loss: 0.1896\n",
      "Epoch 81/100\n",
      "\u001b[1m13/13\u001b[0m \u001b[32m━━━━━━━━━━━━━━━━━━━━\u001b[0m\u001b[37m\u001b[0m \u001b[1m2s\u001b[0m 187ms/step - accuracy: 0.9180 - loss: 0.2604 - val_accuracy: 0.9425 - val_loss: 0.1935\n",
      "Epoch 82/100\n",
      "\u001b[1m13/13\u001b[0m \u001b[32m━━━━━━━━━━━━━━━━━━━━\u001b[0m\u001b[37m\u001b[0m \u001b[1m2s\u001b[0m 177ms/step - accuracy: 0.9162 - loss: 0.2592 - val_accuracy: 0.9319 - val_loss: 0.2267\n",
      "Epoch 83/100\n",
      "\u001b[1m13/13\u001b[0m \u001b[32m━━━━━━━━━━━━━━━━━━━━\u001b[0m\u001b[37m\u001b[0m \u001b[1m2s\u001b[0m 182ms/step - accuracy: 0.9299 - loss: 0.2371 - val_accuracy: 0.9358 - val_loss: 0.2137\n",
      "Epoch 84/100\n",
      "\u001b[1m13/13\u001b[0m \u001b[32m━━━━━━━━━━━━━━━━━━━━\u001b[0m\u001b[37m\u001b[0m \u001b[1m2s\u001b[0m 183ms/step - accuracy: 0.9402 - loss: 0.1835 - val_accuracy: 0.9375 - val_loss: 0.2082\n",
      "Epoch 85/100\n",
      "\u001b[1m13/13\u001b[0m \u001b[32m━━━━━━━━━━━━━━━━━━━━\u001b[0m\u001b[37m\u001b[0m \u001b[1m2s\u001b[0m 187ms/step - accuracy: 0.9293 - loss: 0.2456 - val_accuracy: 0.9417 - val_loss: 0.1896\n",
      "Epoch 86/100\n",
      "\u001b[1m13/13\u001b[0m \u001b[32m━━━━━━━━━━━━━━━━━━━━\u001b[0m\u001b[37m\u001b[0m \u001b[1m2s\u001b[0m 184ms/step - accuracy: 0.9258 - loss: 0.2581 - val_accuracy: 0.9506 - val_loss: 0.1667\n",
      "Epoch 87/100\n",
      "\u001b[1m13/13\u001b[0m \u001b[32m━━━━━━━━━━━━━━━━━━━━\u001b[0m\u001b[37m\u001b[0m \u001b[1m2s\u001b[0m 192ms/step - accuracy: 0.9113 - loss: 0.2784 - val_accuracy: 0.9459 - val_loss: 0.1866\n",
      "Epoch 88/100\n",
      "\u001b[1m13/13\u001b[0m \u001b[32m━━━━━━━━━━━━━━━━━━━━\u001b[0m\u001b[37m\u001b[0m \u001b[1m2s\u001b[0m 191ms/step - accuracy: 0.9217 - loss: 0.2378 - val_accuracy: 0.9402 - val_loss: 0.1980\n",
      "Epoch 89/100\n",
      "\u001b[1m13/13\u001b[0m \u001b[32m━━━━━━━━━━━━━━━━━━━━\u001b[0m\u001b[37m\u001b[0m \u001b[1m2s\u001b[0m 187ms/step - accuracy: 0.9209 - loss: 0.2196 - val_accuracy: 0.9425 - val_loss: 0.1941\n",
      "Epoch 90/100\n",
      "\u001b[1m13/13\u001b[0m \u001b[32m━━━━━━━━━━━━━━━━━━━━\u001b[0m\u001b[37m\u001b[0m \u001b[1m2s\u001b[0m 188ms/step - accuracy: 0.9228 - loss: 0.2718 - val_accuracy: 0.9422 - val_loss: 0.1977\n",
      "Epoch 91/100\n",
      "\u001b[1m13/13\u001b[0m \u001b[32m━━━━━━━━━━━━━━━━━━━━\u001b[0m\u001b[37m\u001b[0m \u001b[1m2s\u001b[0m 191ms/step - accuracy: 0.9197 - loss: 0.2575 - val_accuracy: 0.9364 - val_loss: 0.2119\n",
      "Epoch 92/100\n",
      "\u001b[1m13/13\u001b[0m \u001b[32m━━━━━━━━━━━━━━━━━━━━\u001b[0m\u001b[37m\u001b[0m \u001b[1m2s\u001b[0m 191ms/step - accuracy: 0.9361 - loss: 0.2159 - val_accuracy: 0.9516 - val_loss: 0.1647\n",
      "Epoch 93/100\n",
      "\u001b[1m10/13\u001b[0m \u001b[32m━━━━━━━━━━━━━━━\u001b[0m\u001b[37m━━━━━\u001b[0m \u001b[1m0s\u001b[0m 47ms/step - accuracy: 0.9355 - loss: 0.2134"
     ]
    },
    {
     "name": "stderr",
     "output_type": "stream",
     "text": [
      "2024-05-09 16:04:46.317376: W tensorflow/core/framework/local_rendezvous.cc:404] Local rendezvous is aborting with status: OUT_OF_RANGE: End of sequence\n",
      "\t [[{{node IteratorGetNext}}]]\n"
     ]
    },
    {
     "name": "stdout",
     "output_type": "stream",
     "text": [
      "\u001b[1m13/13\u001b[0m \u001b[32m━━━━━━━━━━━━━━━━━━━━\u001b[0m\u001b[37m\u001b[0m \u001b[1m2s\u001b[0m 180ms/step - accuracy: 0.9365 - loss: 0.2098 - val_accuracy: 0.9303 - val_loss: 0.2369\n",
      "Epoch 94/100\n",
      "\u001b[1m13/13\u001b[0m \u001b[32m━━━━━━━━━━━━━━━━━━━━\u001b[0m\u001b[37m\u001b[0m \u001b[1m2s\u001b[0m 188ms/step - accuracy: 0.9246 - loss: 0.2266 - val_accuracy: 0.9513 - val_loss: 0.1736\n",
      "Epoch 95/100\n",
      "\u001b[1m13/13\u001b[0m \u001b[32m━━━━━━━━━━━━━━━━━━━━\u001b[0m\u001b[37m\u001b[0m \u001b[1m2s\u001b[0m 191ms/step - accuracy: 0.9320 - loss: 0.2303 - val_accuracy: 0.9542 - val_loss: 0.1612\n",
      "Epoch 96/100\n",
      "\u001b[1m13/13\u001b[0m \u001b[32m━━━━━━━━━━━━━━━━━━━━\u001b[0m\u001b[37m\u001b[0m \u001b[1m2s\u001b[0m 191ms/step - accuracy: 0.9379 - loss: 0.2069 - val_accuracy: 0.9523 - val_loss: 0.1584\n",
      "Epoch 97/100\n",
      "\u001b[1m13/13\u001b[0m \u001b[32m━━━━━━━━━━━━━━━━━━━━\u001b[0m\u001b[37m\u001b[0m \u001b[1m2s\u001b[0m 193ms/step - accuracy: 0.9299 - loss: 0.2295 - val_accuracy: 0.9279 - val_loss: 0.2278\n",
      "Epoch 98/100\n",
      "\u001b[1m13/13\u001b[0m \u001b[32m━━━━━━━━━━━━━━━━━━━━\u001b[0m\u001b[37m\u001b[0m \u001b[1m2s\u001b[0m 193ms/step - accuracy: 0.9230 - loss: 0.2261 - val_accuracy: 0.9393 - val_loss: 0.1967\n",
      "Epoch 99/100\n",
      "\u001b[1m13/13\u001b[0m \u001b[32m━━━━━━━━━━━━━━━━━━━━\u001b[0m\u001b[37m\u001b[0m \u001b[1m2s\u001b[0m 192ms/step - accuracy: 0.9291 - loss: 0.2349 - val_accuracy: 0.9523 - val_loss: 0.1558\n",
      "Epoch 100/100\n",
      "\u001b[1m13/13\u001b[0m \u001b[32m━━━━━━━━━━━━━━━━━━━━\u001b[0m\u001b[37m\u001b[0m \u001b[1m2s\u001b[0m 193ms/step - accuracy: 0.9176 - loss: 0.2597 - val_accuracy: 0.9467 - val_loss: 0.1784\n"
     ]
    }
   ],
   "source": [
    "his=model.fit(datagen.flow(x_train,y_train,batch_size=batch_size),\n",
    "                       epochs=epochs,validation_data=(x_val,y_val),\n",
    "                       steps_per_epoch=1600//batch_size)\n"
   ]
  },
  {
   "cell_type": "markdown",
   "metadata": {},
   "source": [
    "# MODEL VISUALIZATION"
   ]
  },
  {
   "cell_type": "code",
   "execution_count": 55,
   "metadata": {},
   "outputs": [
    {
     "data": {
      "image/png": "[encoded data removed]",
      "text/plain": [
       "<Figure size 640x480 with 1 Axes>"
      ]
     },
     "metadata": {},
     "output_type": "display_data"
    }
   ],
   "source": [
    "plt.plot(his.history[\"loss\"], label = \"Train Loss\")\n",
    "plt.plot(his.history[\"val_loss\"], label = \"Test loss\")\n",
    "plt.legend()\n",
    "plt.show()"
   ]
  },
  {
   "cell_type": "code",
   "execution_count": 56,
   "metadata": {},
   "outputs": [
    {
     "data": {
      "image/png": "[encoded data removed]",
      "text/plain": [
       "<Figure size 640x480 with 1 Axes>"
      ]
     },
     "metadata": {},
     "output_type": "display_data"
    }
   ],
   "source": [
    "plt.plot(his.history[\"accuracy\"], label = \"Train acc\")\n",
    "plt.plot(his.history[\"val_accuracy\"], label = \"Test acc\")\n",
    "plt.legend()\n",
    "plt.show()"
   ]
  },
  {
   "cell_type": "code",
   "execution_count": 80,
   "metadata": {},
   "outputs": [
    {
     "name": "stdout",
     "output_type": "stream",
     "text": [
      "[[[239  73  12  61 173  36 123 148  82 193 146 182  83  72 163   9  13\n",
      "   192 184  23  44   5  56 101 233  30 113 245]\n",
      "  [150 115  32 187  12 231 127 204   5  70 212  17   3   9  38  39 239\n",
      "   220 166 242  39 147 234 209 186 211  78 204]\n",
      "  [236 199  76  84  10  63 182  15  85 139 156  50   0  92   1  48  46\n",
      "   111  96 213 208  41 236  21 211 211 229 157]\n",
      "  [ 63  40  91  27  67  43 145  23 151  95  31  78 198 162  25  78 191\n",
      "    10 153 138 187  23  86  68 184 251 115  58]\n",
      "  [ 43  68 243  57 118 225 184  90  82 140 170 105  13 236 232 124 119\n",
      "   215  11 136 232 228 199 248 131 115   0 249]\n",
      "  [ 16 134 163 199 133 128 167 224 147 112 207  14 134 206 174 112 226\n",
      "    54 188 150 159 136 185 252 130 246  53  55]\n",
      "  [ 97 139 157 104   0 152 204 152 212  24  29 132 251  80 148 204  85\n",
      "   223 237 223 224  49 100  52 215 171  83  90]\n",
      "  [243 175  75 235 182 136 255  73  19 115 183  76 233  78 233 235 157\n",
      "   217 235 224  73 168 231  40 179 120 249 170]\n",
      "  [ 84 158 198 151 162 200 103 135 161 253 206 129 175  76 159 113 210\n",
      "   205  47  15 119 101 189 137 151  10 254  59]\n",
      "  [ 53 154  77 254  66 170 255 223 209 139 193 189 210  94   3  67  98\n",
      "   125  67 129 247 255  70 172  77  17  24  71]\n",
      "  [150 147 117 130  98 120  37 108  24  77  89  13 104 241 181 105  63\n",
      "   166 208 119  72  57 254 245 131 143 179 155]\n",
      "  [ 97 232 214  60  76  24 234 163   8  75  82 120 110 242 215 210 235\n",
      "    93  16  92 183 184 103 175 250  79 193  92]\n",
      "  [121   6 218  32 175 119 103 128  58  77  39 238  64  11 215 247  45\n",
      "   185 213 127 249  71  19 115  30 233  31  82]\n",
      "  [ 75 205 153 212 248  50 209 120  85 238 143 255 209 254  95 179 189\n",
      "    90 125  26 242 135 163  15 128  58 217 117]\n",
      "  [ 32 122 210 222 133 255 160 216  50 196 114 171 116   2 151 187  47\n",
      "   168  98  89  80 148 154  82 149 243  51 117]\n",
      "  [ 95 135   9  48  75  95  55  79 136  27 110  27 242 143 254  50  97\n",
      "   189 107  65 170 145  61  80  93 193 211 248]\n",
      "  [209 197  93 217   4 164  39 235 132  86  71 147  91 143 253 168 221\n",
      "   111  90  44  33 124 201 119 164 247   9  17]\n",
      "  [145 155 248 192  88  38  94  38 178  74 175 209 249 123 247 105  92\n",
      "   168 196 124  66 124 186 168   6 239 114 250]\n",
      "  [112 126 146 132 235 155 145  54 117  38  86 138 100  69 159 172  51\n",
      "   132  90   9 227 148  99 198  72 223  64  62]\n",
      "  [ 45  11 174 253 161  30 218 140 188 134 178 168  93  35 163   7  44\n",
      "   210 125 135 104  17  29 139 168  85 189  60]\n",
      "  [220 253  51 207  90   0 115 194  18  43 164 122  43  99  73   0 149\n",
      "    18  28 250  34 117  47  33 247 149  31 111]\n",
      "  [227 176 163 152  53  76  88  27   1 104  76   2  29  32  18 224 151\n",
      "   167 245 117  83 201 212 120 194 186  26 105]\n",
      "  [149 155 139 106  38 152 238  59  77  21 160  48 229 120 124 115 184\n",
      "    48 113 157 154 145 189 239  53 186 188 152]\n",
      "  [160  52 167  44 183 248 235 104 143 249 131   8  67  10 212  83 120\n",
      "    30  37 220  87 217  78 164 190  71 120   2]\n",
      "  [255 156  65 161  57 245  99 129 239 104  66 197  98 192 160 233 222\n",
      "   244 106 118 241 233 199 141 238 124 100  70]\n",
      "  [  2 113 214 139 135  50 142  96 130 241  79  64 203 240 172 145  49\n",
      "   137 246  72  80 220 141 161  10   5 108  43]\n",
      "  [172  55 153 188 145 232 155  12 197  37 174  66  57  18  53 164   7\n",
      "    75 182  46 169  70 143  33  54 224  37  35]\n",
      "  [ 53  89 250 219 166 102 141 220 111 136 226  37  47  18 232 111 203\n",
      "   221 223  48  50   5  21 214 128 235  29  28]]]\n",
      "\u001b[1m1/1\u001b[0m \u001b[32m━━━━━━━━━━━━━━━━━━━━\u001b[0m\u001b[37m\u001b[0m \u001b[1m0s\u001b[0m 28ms/step\n",
      "Tahmin: 3\n"
     ]
    }
   ],
   "source": [
    "import numpy as np\n",
    "\n",
    "# 28x28 piksellik NumPy dizisi oluştur\n",
    "image = np.random.randint(0, 256, (28, 28))\n",
    " # Yeni bir rakam görüntüsü (28x28 piksellik NumPy dizisi)\n",
    "image = image.reshape(1, 28, 28)  # Tek bir örnek için şekli yeniden boyutlandırın\n",
    "print(image)\n",
    "\n",
    "\n",
    "tahminler = model.predict(image)\n",
    "print('Tahmin:', np.argmax(tahminler))  # En yüksek olasılıklı sınıfı yazdırın"
   ]
  }
 ],
 "metadata": {
  "kernelspec": {
   "display_name": "base",
   "language": "python",
   "name": "python3"
  },
  "language_info": {
   "codemirror_mode": {
    "name": "ipython",
    "version": 3
   },
   "file_extension": ".py",
   "mimetype": "text/x-python",
   "name": "python",
   "nbconvert_exporter": "python",
   "pygments_lexer": "ipython3",
   "version": "3.11.5"
  }
 },
 "nbformat": 4,
 "nbformat_minor": 2
}
